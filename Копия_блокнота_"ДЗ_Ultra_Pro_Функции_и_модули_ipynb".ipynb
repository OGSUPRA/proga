{
  "nbformat": 4,
  "nbformat_minor": 0,
  "metadata": {
    "colab": {
      "provenance": [],
      "include_colab_link": true
    },
    "kernelspec": {
      "name": "python3",
      "display_name": "Python 3"
    }
  },
  "cells": [
    {
      "cell_type": "markdown",
      "metadata": {
        "id": "view-in-github",
        "colab_type": "text"
      },
      "source": [
        "<a href=\"https://colab.research.google.com/github/OGSUPRA/proga/blob/master/%D0%9A%D0%BE%D0%BF%D0%B8%D1%8F_%D0%B1%D0%BB%D0%BE%D0%BA%D0%BD%D0%BE%D1%82%D0%B0_%22%D0%94%D0%97_Ultra_Pro_%D0%A4%D1%83%D0%BD%D0%BA%D1%86%D0%B8%D0%B8_%D0%B8_%D0%BC%D0%BE%D0%B4%D1%83%D0%BB%D0%B8_ipynb%22.ipynb\" target=\"_parent\"><img src=\"https://colab.research.google.com/assets/colab-badge.svg\" alt=\"Open In Colab\"/></a>"
      ]
    },
    {
      "cell_type": "markdown",
      "metadata": {
        "id": "NRUICBBzlLh2"
      },
      "source": [
        "# Домашнее задание\n",
        "Функции и модули\n",
        "# Ultra Pro"
      ]
    },
    {
      "cell_type": "markdown",
      "metadata": {
        "id": "j0nWwQpIaPch"
      },
      "source": [
        "**Задача 1**\n",
        "\n",
        "Уже весна, скоро в отпуск. Необходимо написать функцию расчета стоимости вашего путешествия.\n",
        "\n",
        "Определите функцию с названием ```hotel_cost``` и с аргументом \"Количество ночей\" в качестве входных данных. Цена отеля будет 140 у. е. за ночь. Выходит, функция должна вернуть стоимость всех ночей.\n",
        "\n",
        "Определите функцию под названием ```plane_ride_cost```, которая на вход принимает строку \"Город\". Такая функция должна вернуть цену перелета в зависимости от места: если это Крым, то перелет обойдется в 120 у. е.,\n",
        "       если Шри-Ланка - 800 у. е.,\n",
        "       если Каир - 400 у. е.,\n",
        "       если Сочи - 120 у. е.\n",
        "\n",
        "Напишите функцию ```rental_car_cost``` с аргументом \"Количество дней\". Эта функция должна рассчитать стоимость аренды авто, если за сутки вы должны оплачивать саму ренту (40 у. е.) + стоимость услуг страхового агентства (+1% от суммарной стоимости услуг каждый следующий день. Т. е. первый день 1% от стоимости, второй - берется 1% от стоимости предыдущего дня (включая 1% за предыдущий день)  и т. д.(следовательно сумма аренды авто за первый день будет составлять 40 * 1.01,\n",
        "за второй день 40 * 1.01 * 1.01, за третий день 40 * 1.01 * 1.01 * 1.01 и т.д.) Если вы арендуете на 7 и более дней, то скидка - 50 у. е., если от 3 до 6 дней включительно - 20 у. е. Обе скидки получить сразу нельзя.\n",
        "Задача состоит в том, чтобы эти функции (```hotel_cost, plane_ride_cost, rental_car_cost```) были локальными в составе одной глобальной функции trip_cost, которая бы возвращала сумму этих локальных функций."
      ]
    },
    {
      "cell_type": "markdown",
      "metadata": {
        "id": "EaYeDHxcuO_s"
      },
      "source": [
        "**Решение:**"
      ]
    },
    {
      "cell_type": "code",
      "metadata": {
        "id": "pngcgEEkaQbG",
        "outputId": "4ac56ec5-ab93-4ddd-9d39-b5b3c7a03d4f",
        "colab": {
          "base_uri": "https://localhost:8080/"
        }
      },
      "source": [
        "def trip_cost():\n",
        "  night_cound = int(input(\"Введите Количество ночей: \"))\n",
        "  def hotel_cost(x):\n",
        "    hotel_cost1 = x * 140\n",
        "    print('Цена всех ночей в отеле :',hotel_cost1,'y.e')\n",
        "    return hotel_cost1\n",
        "  x = input(\"Введите город в который хотите поехать: \")\n",
        "  def plane_ride_cost(x):\n",
        "    if x == 'Крым':\n",
        "      plane_ride_cost2 = 120\n",
        "    elif x == 'Шри-Ланка':\n",
        "      plane_ride_cost2 = 800\n",
        "    elif x == 'Каир':\n",
        "      plane_ride_cost2 = 400\n",
        "    elif x == 'Сочи':\n",
        "      plane_ride_cost2 = 120\n",
        "    else:\n",
        "      plane_ride_cost2 = 0\n",
        "      print(\"Нет такого города\")\n",
        "    print(\"Цена поездки в город\",x,\":\",plane_ride_cost2,\"y.e\")\n",
        "    return plane_ride_cost2\n",
        "  def rental_car_cost(x):\n",
        "    strax = 40*(1.01**x)\n",
        "    rental_car_cost3 = 40*x+strax\n",
        "    if x >= 7:\n",
        "      rental_car_cost3 - 50\n",
        "    elif 3 >= x <= 6:\n",
        "      rental_car_cost3 - 20\n",
        "    else:\n",
        "      rental_car_cost3 - 0\n",
        "    print(\"Цена аренды и страховки машины :\",int(rental_car_cost3),\"y.e\")\n",
        "    return rental_car_cost3\n",
        "  hotel_cost1 = hotel_cost(night_cound)\n",
        "  plane_ride_cost2 = plane_ride_cost(x)\n",
        "  rental_car_cost3 = rental_car_cost(night_cound)\n",
        "  print(\"Общая сумма вашевого отпуска составит :\",int(sum((hotel_cost1,plane_ride_cost2,rental_car_cost3))), \"y.e\")\n",
        "trip_cost()\n"
      ],
      "execution_count": null,
      "outputs": [
        {
          "output_type": "stream",
          "name": "stdout",
          "text": [
            "Введите Количество ночей: 5\n",
            "Введите город в который хотите поехать: Сочи\n",
            "Цена всех ночей в отеле : 700 y.e\n",
            "Цена поездки в город Сочи : 120 y.e\n",
            "Цена аренды и страховки машины : 242 y.e\n",
            "Общая сумма вашевого отпуска составит : 1062 y.e\n"
          ]
        }
      ]
    },
    {
      "cell_type": "markdown",
      "metadata": {
        "id": "vx8FJjcGrx4b"
      },
      "source": [
        "**Задача 2**\n",
        "\n",
        "Напишите функцию, которая считает факториал заданного числа."
      ]
    },
    {
      "cell_type": "markdown",
      "metadata": {
        "id": "V_qeKIlWuWNw"
      },
      "source": [
        "**Решение:**"
      ]
    },
    {
      "cell_type": "code",
      "metadata": {
        "id": "rwkN-nciXC41",
        "outputId": "6ec9e1c5-ce77-47cb-8388-f64cfb6e662e",
        "colab": {
          "base_uri": "https://localhost:8080/"
        }
      },
      "source": [
        "user_number = int(input())\n",
        "\n",
        "def fact(num):\n",
        "  sum_fact = []\n",
        "  for i in range(1,user_number+1):\n",
        "    sum_fact += [i]\n",
        "  print(\"факториал =\", sum(sum_fact))\n",
        "fact(user_number)\n",
        "\n"
      ],
      "execution_count": null,
      "outputs": [
        {
          "output_type": "stream",
          "name": "stdout",
          "text": [
            "2\n",
            "факториал = 3\n"
          ]
        }
      ]
    },
    {
      "cell_type": "markdown",
      "metadata": {
        "id": "T8a_TGxGt7Yy"
      },
      "source": [
        "**Задача 3**\n",
        "\n",
        "Напишите **лямбда**-функцию, которая считает полную площадь конуса:\n",
        "S = πR(l + R)."
      ]
    },
    {
      "cell_type": "markdown",
      "metadata": {
        "id": "cSrfBueQuYJi"
      },
      "source": [
        "**Решение:**"
      ]
    },
    {
      "cell_type": "code",
      "metadata": {
        "id": "c2M4DJJxtsTT",
        "outputId": "653a0ff2-f48c-4efb-d300-f039df504e8f",
        "colab": {
          "base_uri": "https://localhost:8080/"
        }
      },
      "source": [
        "from math import pi\n",
        "\n",
        "len_user = int(input(\"Введите длину конуса: \"))\n",
        "rad_user = int(input(\"Введите радиус конуса: \"))\n",
        "\n",
        "square_def = lambda l,r: print(\"Площадь конуса равна:\",pi*r*(l + r))\n",
        "\n",
        "square_def(len_user,rad_user)\n",
        "\n"
      ],
      "execution_count": null,
      "outputs": [
        {
          "output_type": "stream",
          "name": "stdout",
          "text": [
            "Введите длину конуса: 10\n",
            "Введите радиус конуса: 10\n",
            "Площадь конуса равна: 628.3185307179587\n"
          ]
        }
      ]
    },
    {
      "cell_type": "markdown",
      "metadata": {
        "id": "6fXQoIiVysbl"
      },
      "source": [
        "**Задача 4**\n",
        "\n",
        "Напишите 2 локальные функции, которые будут переводить рубли в доллары и рубли в евро, внутри глобальной функции, которая будет принимать на вход число (рубли) и выводить конвертированные валюты(доллары и евро)."
      ]
    },
    {
      "cell_type": "markdown",
      "metadata": {
        "id": "N78DnlmDuchl"
      },
      "source": [
        "**Решение:**"
      ]
    },
    {
      "cell_type": "code",
      "metadata": {
        "id": "N7uDMsRoxCvC",
        "outputId": "27aa526c-6adf-42eb-d191-d85620b1ba39",
        "colab": {
          "base_uri": "https://localhost:8080/"
        }
      },
      "source": [
        "def rubl_baks_evr():\n",
        "  rubl = int(input(\"Введите кол-во рублей: \"))\n",
        "  baks_def = lambda x: print(\"Долларов:\", x/95)\n",
        "  baks_def(rubl)\n",
        "  evr_def = lambda x: print(\"Евро:\", x/105)\n",
        "  evr_def(rubl)\n",
        "rubl_baks_evr()"
      ],
      "execution_count": null,
      "outputs": [
        {
          "output_type": "stream",
          "name": "stdout",
          "text": [
            "Введите кол-во рублей: 10000\n",
            "Долларов: 105.26315789473684\n",
            "Евро: 95.23809523809524\n"
          ]
        }
      ]
    },
    {
      "cell_type": "markdown",
      "metadata": {
        "id": "TtWCCVfN6nCc"
      },
      "source": [
        "**Задача 5**\n",
        "\n",
        "Напишите функцию-генератор, которая будет выводить числа Фибоначчи."
      ]
    },
    {
      "cell_type": "markdown",
      "metadata": {
        "id": "zcFv7fKOuefN"
      },
      "source": [
        "**Решение:**"
      ]
    },
    {
      "cell_type": "code",
      "metadata": {
        "id": "z8KBWxdz6EGv",
        "colab": {
          "base_uri": "https://localhost:8080/"
        },
        "outputId": "952aa9e4-0bab-404f-c8be-3049c815907b"
      },
      "source": [
        "def fibo(n):\n",
        "  a,b = 0,1\n",
        "  for _ in range(n):\n",
        "    yield a\n",
        "    a,b = b,a+b\n",
        "print(list(fibo(20)))\n",
        "\n"
      ],
      "execution_count": 11,
      "outputs": [
        {
          "output_type": "stream",
          "name": "stdout",
          "text": [
            "[0, 1, 1, 2, 3, 5, 8, 13, 21, 34, 55, 89, 144, 233, 377, 610, 987, 1597, 2584, 4181]\n"
          ]
        }
      ]
    },
    {
      "cell_type": "code",
      "source": [],
      "metadata": {
        "id": "Q4yMUYe-fV7M"
      },
      "execution_count": null,
      "outputs": []
    }
  ]
}