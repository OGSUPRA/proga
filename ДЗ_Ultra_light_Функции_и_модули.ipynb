{
  "nbformat": 4,
  "nbformat_minor": 0,
  "metadata": {
    "colab": {
      "provenance": [],
      "include_colab_link": true
    },
    "kernelspec": {
      "name": "python3",
      "display_name": "Python 3"
    }
  },
  "cells": [
    {
      "cell_type": "markdown",
      "metadata": {
        "id": "view-in-github",
        "colab_type": "text"
      },
      "source": [
        "<a href=\"https://colab.research.google.com/github/OGSUPRA/proga/blob/master/%D0%94%D0%97_Ultra_light_%D0%A4%D1%83%D0%BD%D0%BA%D1%86%D0%B8%D0%B8_%D0%B8_%D0%BC%D0%BE%D0%B4%D1%83%D0%BB%D0%B8.ipynb\" target=\"_parent\"><img src=\"https://colab.research.google.com/assets/colab-badge.svg\" alt=\"Open In Colab\"/></a>"
      ]
    },
    {
      "cell_type": "markdown",
      "metadata": {
        "id": "NRUICBBzlLh2"
      },
      "source": [
        "# Домашнее задание\n",
        "Функции и модули\n",
        "# Ultra light"
      ]
    },
    {
      "cell_type": "markdown",
      "metadata": {
        "id": "J_3EMvI2E3fG"
      },
      "source": [
        "**Задача 1**\n",
        "\n",
        "Напишите функцию, которая будет выводить количество букв в слове. Проверьте при помощи этой функции, сколько букв в слове восьмидесятивосьмимиллиметровое."
      ]
    },
    {
      "cell_type": "markdown",
      "metadata": {
        "id": "DxHSea4uquu-"
      },
      "source": [
        "**Решение:**"
      ]
    },
    {
      "cell_type": "code",
      "source": [],
      "metadata": {
        "id": "bsJZRXmELDUY"
      },
      "execution_count": null,
      "outputs": []
    },
    {
      "cell_type": "code",
      "metadata": {
        "id": "qFDath-KrXwx",
        "colab": {
          "base_uri": "https://localhost:8080/"
        },
        "outputId": "a5d51e1f-7cad-4650-c273-5eea8647cc4e"
      },
      "source": [
        "wrd = 'восьмидесятивосьмимиллиметровое'\n",
        "def wrd_count(wrd):\n",
        "  return len(wrd)\n",
        "wrd_count(wrd)\n"
      ],
      "execution_count": 6,
      "outputs": [
        {
          "output_type": "execute_result",
          "data": {
            "text/plain": [
              "31"
            ]
          },
          "metadata": {},
          "execution_count": 6
        }
      ]
    },
    {
      "cell_type": "markdown",
      "metadata": {
        "id": "KIEnEygesl_g"
      },
      "source": [
        "**Задача 2**\n",
        "\n",
        "Напишите функцию, которая выводит таблицу умножения (от 1 до 9) для указанного числа в следующем формате:\n",
        "\n",
        "1 * 3 = 3\n",
        "\n",
        "2 * 3 = 6\n",
        "\n",
        "3 * 3 = 9\n",
        "\n",
        "...\n",
        "\n",
        "9 * 3 = 27"
      ]
    },
    {
      "cell_type": "markdown",
      "metadata": {
        "id": "R2vbMPZ-q0fc"
      },
      "source": [
        "**Решение:**"
      ]
    },
    {
      "cell_type": "code",
      "metadata": {
        "id": "GrDRIczQr7Og",
        "colab": {
          "base_uri": "https://localhost:8080/"
        },
        "outputId": "f9cbe0e9-ced1-4db9-dfba-f74fdd82a714"
      },
      "source": [
        "def tabl_umd():\n",
        "  for i in range(1,10):\n",
        "    print(i,'* 3 =',i*3)\n",
        "tabl_umd()"
      ],
      "execution_count": 13,
      "outputs": [
        {
          "output_type": "stream",
          "name": "stdout",
          "text": [
            "1 * 3 = 3\n",
            "2 * 3 = 6\n",
            "3 * 3 = 9\n",
            "4 * 3 = 12\n",
            "5 * 3 = 15\n",
            "6 * 3 = 18\n",
            "7 * 3 = 21\n",
            "8 * 3 = 24\n",
            "9 * 3 = 27\n"
          ]
        }
      ]
    },
    {
      "cell_type": "markdown",
      "metadata": {
        "id": "HmPLoSSWt651"
      },
      "source": [
        "**Задача 3**\n",
        "\n",
        "Напишите функцию, которая выводит сумму, разность и произведение двух, поданных на вход чисел.\n"
      ]
    },
    {
      "cell_type": "markdown",
      "metadata": {
        "id": "rnlCzeeFq3YV"
      },
      "source": [
        "**Решение:**"
      ]
    },
    {
      "cell_type": "code",
      "metadata": {
        "id": "z7YLR3g_tlip",
        "colab": {
          "base_uri": "https://localhost:8080/"
        },
        "outputId": "17024a15-0cd1-4ca6-e6ca-5c2cee9a579a"
      },
      "source": [
        "x = int(input())\n",
        "y = int(input())\n",
        "\n",
        "def sum_dif_comp(x,y):\n",
        "  print(x + y)\n",
        "  print(x - y)\n",
        "  print(x * y)\n",
        "sum_dif_comp(x,y)"
      ],
      "execution_count": 14,
      "outputs": [
        {
          "output_type": "stream",
          "name": "stdout",
          "text": [
            "5\n",
            "5\n",
            "10\n",
            "0\n",
            "25\n"
          ]
        }
      ]
    },
    {
      "cell_type": "markdown",
      "metadata": {
        "id": "tdcZIYm9yLYE"
      },
      "source": [
        "**Задача 4**\n",
        "\n",
        "Импортируйте функцию sin из модуля math с присвоением ей псевдонима sinus. Посчитайте при помощи импортированной функции, чему будет равен синус единицы.\n",
        "\n"
      ]
    },
    {
      "cell_type": "markdown",
      "metadata": {
        "id": "rz3-JFX-q7JK"
      },
      "source": [
        "**Решение:**"
      ]
    },
    {
      "cell_type": "code",
      "metadata": {
        "id": "45zMwJsUyZQj",
        "colab": {
          "base_uri": "https://localhost:8080/"
        },
        "outputId": "11de2a1d-cf48-4080-ac32-34228b8031d6"
      },
      "source": [
        "from math import sin as sinus\n",
        "sinus(1)"
      ],
      "execution_count": 15,
      "outputs": [
        {
          "output_type": "execute_result",
          "data": {
            "text/plain": [
              "0.8414709848078965"
            ]
          },
          "metadata": {},
          "execution_count": 15
        }
      ]
    },
    {
      "cell_type": "markdown",
      "metadata": {
        "id": "W3cmoRj7feLA"
      },
      "source": [
        "**Задача 5**\n",
        "\n",
        "Напишите лямбда-функцию, которая считает куб числа.\n",
        "\n"
      ]
    },
    {
      "cell_type": "markdown",
      "metadata": {
        "id": "Gof4F0ZYq9l6"
      },
      "source": [
        "**Решение:**"
      ]
    },
    {
      "cell_type": "code",
      "metadata": {
        "id": "X8LPhssbyj8d",
        "colab": {
          "base_uri": "https://localhost:8080/"
        },
        "outputId": "c2cfd782-0be8-4e6f-f54e-554c6af073da"
      },
      "source": [
        "x = int(input())\n",
        "cube = lambda a: a**3\n",
        "cube(x)\n"
      ],
      "execution_count": 22,
      "outputs": [
        {
          "name": "stdout",
          "output_type": "stream",
          "text": [
            "5\n"
          ]
        },
        {
          "output_type": "execute_result",
          "data": {
            "text/plain": [
              "125"
            ]
          },
          "metadata": {},
          "execution_count": 22
        }
      ]
    }
  ]
}