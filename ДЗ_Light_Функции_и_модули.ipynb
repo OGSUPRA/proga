{
  "nbformat": 4,
  "nbformat_minor": 0,
  "metadata": {
    "colab": {
      "provenance": [],
      "include_colab_link": true
    },
    "kernelspec": {
      "name": "python3",
      "display_name": "Python 3"
    }
  },
  "cells": [
    {
      "cell_type": "markdown",
      "metadata": {
        "id": "view-in-github",
        "colab_type": "text"
      },
      "source": [
        "<a href=\"https://colab.research.google.com/github/OGSUPRA/proga/blob/master/%D0%94%D0%97_Light_%D0%A4%D1%83%D0%BD%D0%BA%D1%86%D0%B8%D0%B8_%D0%B8_%D0%BC%D0%BE%D0%B4%D1%83%D0%BB%D0%B8.ipynb\" target=\"_parent\"><img src=\"https://colab.research.google.com/assets/colab-badge.svg\" alt=\"Open In Colab\"/></a>"
      ]
    },
    {
      "cell_type": "markdown",
      "metadata": {
        "id": "NRUICBBzlLh2"
      },
      "source": [
        "# Домашнее задание Функции и модули\n",
        "# Light"
      ]
    },
    {
      "cell_type": "markdown",
      "metadata": {
        "id": "J_3EMvI2E3fG"
      },
      "source": [
        "**Задача 1**\n",
        "\n",
        "Определите функцию ```shut_down```, которая на вход принимает некоторый аргумент. Если на вход было подано \"ДА\", то функция возвращает \"Выключение\", если \"НЕТ\", то должна вернуть \"Выключение отклонено\". Если же ни одно из условий не соблюдено (на вход подали что-то другое), то функция возвращает \"Ошибка!\""
      ]
    },
    {
      "cell_type": "markdown",
      "metadata": {
        "id": "TAv1C6Slr2At"
      },
      "source": [
        "**Решение:**"
      ]
    },
    {
      "cell_type": "code",
      "metadata": {
        "id": "Hn8T4IUgFrce",
        "outputId": "f1129d5b-cf56-4503-dc59-89324951af07",
        "colab": {
          "base_uri": "https://localhost:8080/"
        }
      },
      "source": [
        "def shut_down():\n",
        "  user_enter = input()\n",
        "  if user_enter == 'ДА':\n",
        "    print('Выключение')\n",
        "  elif user_enter == 'НЕТ':\n",
        "    print('Выключение отклонено')\n",
        "  else:\n",
        "    print('Ошибка!')\n",
        "shut_down()"
      ],
      "execution_count": 8,
      "outputs": [
        {
          "output_type": "stream",
          "name": "stdout",
          "text": [
            "НЕА\n",
            "Ошибка!\n"
          ]
        }
      ]
    },
    {
      "cell_type": "markdown",
      "metadata": {
        "id": "y9HKW0zfFrx5"
      },
      "source": [
        "**Задача 2**\n",
        "\n",
        "Напишите функцию, которая возвращает сумму всех четных элементов списка."
      ]
    },
    {
      "cell_type": "markdown",
      "metadata": {
        "id": "iySoBodZr751"
      },
      "source": [
        "**Решение:**"
      ]
    },
    {
      "cell_type": "code",
      "metadata": {
        "id": "4EarzKMgF-3S",
        "outputId": "322cabdf-4483-46a5-d2c3-78430ecebb37",
        "colab": {
          "base_uri": "https://localhost:8080/"
        }
      },
      "source": [
        "user_list = [1,2,3,4,5,6,7,8,9]\n",
        "def numbers_even (x):\n",
        "  y = []\n",
        "  for i in x:\n",
        "    if i % 2 == 0:\n",
        "      y += [i]\n",
        "  print(y)\n",
        "  print(sum(y))\n",
        "numbers_even(user_list)"
      ],
      "execution_count": 12,
      "outputs": [
        {
          "output_type": "stream",
          "name": "stdout",
          "text": [
            "[2, 4, 6, 8]\n",
            "20\n"
          ]
        }
      ]
    },
    {
      "cell_type": "markdown",
      "metadata": {
        "id": "wmWxT1ibGfpN"
      },
      "source": [
        "**Задача 3**\n",
        "\n",
        "Импортируйте модуль ```math``` и воспользуйтесь оттуда функцией ```sqrt``` для нахождения квадратного корня каждого числа из списка (из задачи № 2).\n"
      ]
    },
    {
      "cell_type": "markdown",
      "metadata": {
        "id": "A0ErhyPBr-XG"
      },
      "source": [
        "**Решение:**"
      ]
    },
    {
      "cell_type": "code",
      "metadata": {
        "id": "zrsGIkgmG-AT",
        "outputId": "6f36e255-b9ea-43c1-8b7b-a271af4b00bd",
        "colab": {
          "base_uri": "https://localhost:8080/"
        }
      },
      "source": [
        "from math import sqrt as sq\n",
        "\n",
        "def numbers_even (x):\n",
        "  y = []\n",
        "  for i in x:\n",
        "    i = sq(i)\n",
        "    y += [i]\n",
        "  print(y)\n",
        "  print(sum(y))\n",
        "numbers_even(user_list)"
      ],
      "execution_count": 13,
      "outputs": [
        {
          "output_type": "stream",
          "name": "stdout",
          "text": [
            "[1.0, 1.4142135623730951, 1.7320508075688772, 2.0, 2.23606797749979, 2.449489742783178, 2.6457513110645907, 2.8284271247461903, 3.0]\n",
            "19.30600052603572\n"
          ]
        }
      ]
    },
    {
      "cell_type": "markdown",
      "metadata": {
        "id": "JQvwHuGsG9Of"
      },
      "source": [
        "**Задача 4**\n",
        "\n",
        "Напишите функцию, которая рассчитает примерное время выполнения этого домашнего задания. На вход она принимает количество минут, потраченное на каждое задание. Выведите посчитанное время на экран."
      ]
    },
    {
      "cell_type": "markdown",
      "metadata": {
        "id": "qC8Ts9yesAB_"
      },
      "source": [
        "**Решение:**"
      ]
    },
    {
      "cell_type": "code",
      "metadata": {
        "id": "68KXmNplpTt5",
        "outputId": "ce937f35-64e8-4d84-ad47-93c26644557e",
        "colab": {
          "base_uri": "https://localhost:8080/"
        }
      },
      "source": [
        "def hw_time():\n",
        "  cound_task = int(input('Введите кол-во заданий '))\n",
        "  time_list = []\n",
        "  for i in range(1,cound_task + 1):\n",
        "    task_time = int(input('Введите кол-во времени потраченное на выполнение задания '))\n",
        "    time_list += [task_time]\n",
        "  # print('На выполнение домашней работы понадобится: ',sum(time_list),' мин')\n",
        "  if sum(time_list) >= 60:\n",
        "    hours_time = sum(time_list) // 60\n",
        "    minutes_time = sum(time_list) % 60\n",
        "    if minutes_time > 0:\n",
        "      print('На выполнение домашней работы понадобится: ',hours_time,' часа и ',minutes_time,' минут')\n",
        "    else:\n",
        "      print('На выполнение домашней работы понадобится: ',hours_time,' часа')\n",
        "hw_time()\n",
        "\n"
      ],
      "execution_count": 23,
      "outputs": [
        {
          "output_type": "stream",
          "name": "stdout",
          "text": [
            "Введите кол-во заданий 3\n",
            "Введите кол-во времени потраченное на выполнение задания 50\n",
            "Введите кол-во времени потраченное на выполнение задания 50\n",
            "Введите кол-во времени потраченное на выполнение задания 50\n",
            "На выполнение домашней работы понадобится:  2  часа и  30  минут\n"
          ]
        }
      ]
    },
    {
      "cell_type": "markdown",
      "metadata": {
        "id": "uG25f7M3HZbU"
      },
      "source": [
        "**Задача 5**\n",
        "\n",
        "Напишите функцию, которая возвращает перевернутую строку наоборот.\n",
        "Пример: начальная строка11 -> 11акортс яаньлачан"
      ]
    },
    {
      "cell_type": "code",
      "metadata": {
        "id": "gP4TQuZJILE_"
      },
      "source": [
        "stroka = 'пароль от Wi-Fi: bOTOt0s@ni123'"
      ],
      "execution_count": 24,
      "outputs": []
    },
    {
      "cell_type": "markdown",
      "metadata": {
        "id": "rJDo-zTPsFa4"
      },
      "source": [
        "**Решение:**"
      ]
    },
    {
      "cell_type": "code",
      "metadata": {
        "id": "rgx6PA44mb6p",
        "outputId": "5b3a9482-b561-4d1b-894c-84be8e7923cb",
        "colab": {
          "base_uri": "https://localhost:8080/"
        }
      },
      "source": [
        "def vers(x):\n",
        "  vers_wrd = x[::-1]\n",
        "  print(vers_wrd)\n",
        "vers(stroka)"
      ],
      "execution_count": 25,
      "outputs": [
        {
          "output_type": "stream",
          "name": "stdout",
          "text": [
            "321in@s0tOTOb :iF-iW то ьлорап\n"
          ]
        }
      ]
    }
  ]
}